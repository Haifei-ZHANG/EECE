{
 "cells": [
  {
   "cell_type": "code",
   "execution_count": 1,
   "id": "8b809943-dcb3-465d-9bcc-7f69b621744d",
   "metadata": {},
   "outputs": [],
   "source": [
    "import numpy as np\n",
    "\n",
    "data_names = ['adult', 'banknote', 'biodeg', 'breast-cancer', 'compas', 'german', 'heart', \n",
    "              'heloc', 'liver', 'magic', 'mammographic', 'phishing', 'pima', 'spam', 'wine']\n",
    "methods = ['MO', 'DisCERN', 'LIRE', 'EECE']\n",
    "\n",
    "\n",
    "effectiveness_opt_L1 = np.load('./results/effectiveness_opt_L1.npy')\n",
    "effectiveness_opt_L2 = np.load('./results/effectiveness_opt_L2.npy')"
   ]
  },
  {
   "cell_type": "code",
   "execution_count": 3,
   "id": "16d6e4f7-9be4-494b-9fbd-b4671d53639e",
   "metadata": {
    "scrolled": true
   },
   "outputs": [
    {
     "data": {
      "text/plain": [
       "(10, 5, 15, 4)"
      ]
     },
     "execution_count": 3,
     "metadata": {},
     "output_type": "execute_result"
    }
   ],
   "source": [
    "effectiveness_opt_L1.shape\n",
    "# 10 is number of folds\n",
    "# 5 is number of evaluation metrics 0: L1, 1: L2, 2: L0, 3: plausibility 4: time\n",
    "# 15 is number of datasets\n",
    "# 4 is number of models"
   ]
  },
  {
   "cell_type": "code",
   "execution_count": 5,
   "id": "6436a660-8d51-48ca-9aee-124194fdfabe",
   "metadata": {},
   "outputs": [
    {
     "name": "stdout",
     "output_type": "stream",
     "text": [
      "Time comparison\n",
      "(20, 15, 4)\n",
      "Adult & 0.4447 $\\pm$ 0.0135 & 0.4687 $\\pm$ 0.0229 & 0.0988 $\\pm$ 0.0083 & 0.4061 $\\pm$ 0.0300 \\\\ \n",
      "Banknote & 0.0070 $\\pm$ 0.0024 & 0.0107 $\\pm$ 0.0011 & 0.0040 $\\pm$ 0.0013 & 0.0426 $\\pm$ 0.0020 \\\\ \n",
      "Biodeg & 0.0118 $\\pm$ 0.0007 & 0.1165 $\\pm$ 0.0024 & 0.0078 $\\pm$ 0.0008 & 0.0674 $\\pm$ 0.0019 \\\\ \n",
      "Breast-cancer & 0.0070 $\\pm$ 0.0018 & 0.0910 $\\pm$ 0.0050 & 0.0049 $\\pm$ 0.0010 & 0.0392 $\\pm$ 0.0022 \\\\ \n",
      "Compas & 0.0253 $\\pm$ 0.0014 & 0.0301 $\\pm$ 0.0009 & 0.0062 $\\pm$ 0.0007 & 0.0559 $\\pm$ 0.0027 \\\\ \n",
      "German & 0.0129 $\\pm$ 0.0009 & 0.0805 $\\pm$ 0.0043 & 0.0081 $\\pm$ 0.0008 & 0.0753 $\\pm$ 0.0014 \\\\ \n",
      "Heart & 0.0050 $\\pm$ 0.0030 & 0.0235 $\\pm$ 0.0026 & 0.0032 $\\pm$ 0.0012 & 0.0512 $\\pm$ 0.0033 \\\\ \n",
      "Heloc & 0.1305 $\\pm$ 0.0011 & 0.1680 $\\pm$ 0.0020 & 0.0635 $\\pm$ 0.0014 & 0.3331 $\\pm$ 0.0388 \\\\ \n",
      "Liver & 0.0050 $\\pm$ 0.0014 & 0.0117 $\\pm$ 0.0015 & 0.0031 $\\pm$ 0.0012 & 0.0497 $\\pm$ 0.0041 \\\\ \n",
      "Magic & 0.0253 $\\pm$ 0.0005 & 0.1636 $\\pm$ 0.0018 & 0.0132 $\\pm$ 0.0006 & 0.0969 $\\pm$ 0.0011 \\\\ \n",
      "Mammographic & 0.0099 $\\pm$ 0.0015 & 0.0135 $\\pm$ 0.0021 & 0.0024 $\\pm$ 0.0011 & 0.0440 $\\pm$ 0.0020 \\\\ \n",
      "Phishing & 0.0972 $\\pm$ 0.0013 & 0.1575 $\\pm$ 0.0014 & 0.0259 $\\pm$ 0.0005 & 0.1485 $\\pm$ 0.0027 \\\\ \n",
      "Pima & 0.0072 $\\pm$ 0.0024 & 0.0165 $\\pm$ 0.0012 & 0.0038 $\\pm$ 0.0010 & 0.0520 $\\pm$ 0.0021 \\\\ \n",
      "Spam & 0.0493 $\\pm$ 0.0012 & 0.1773 $\\pm$ 0.0016 & 0.0222 $\\pm$ 0.0005 & 0.1266 $\\pm$ 0.0024 \\\\ \n",
      "Wine & 0.0152 $\\pm$ 0.0006 & 0.0264 $\\pm$ 0.0006 & 0.0052 $\\pm$ 0.0006 & 0.0648 $\\pm$ 0.0055 \\\\ \n",
      "\n"
     ]
    }
   ],
   "source": [
    "# time comparison\n",
    "\n",
    "print('Time comparison')\n",
    "time_cost = np.concatenate((effectiveness_opt_L1[:,-1,:,:], effectiveness_opt_L2[:,-1,:,:]), axis=0)\n",
    "print(time_cost.shape)\n",
    "time_avg = time_cost.mean(axis=0).round(4)\n",
    "time_std = time_cost.std(axis=0).round(4)\n",
    "\n",
    "latex_string = ''\n",
    "for d in range(len(data_names)):\n",
    "    \n",
    "    latex_string += str.capitalize(data_names[d]) + ' & '\n",
    "    \n",
    "    for m in range(len(methods)):\n",
    "        latex_string += \"{:.4f}\".format(time_avg[d,m]) + \" $\\\\pm$ \" + \"{:.4f}\".format(time_std[d,m]) + ' & '\n",
    "        \n",
    "    latex_string = latex_string[:-2]\n",
    "    latex_string += '\\\\\\\\ \\n'\n",
    "    \n",
    "print(latex_string)"
   ]
  },
  {
   "cell_type": "code",
   "execution_count": 7,
   "id": "b72d9f84-bb5b-439f-9035-83b7f58b0ba1",
   "metadata": {},
   "outputs": [
    {
     "name": "stdout",
     "output_type": "stream",
     "text": [
      "Plausibility comparison\n",
      "Adult & 95.8 $\\pm$ 2.1 & 95.5 $\\pm$ 2.1 & 88.8 $\\pm$ 3.9 & 98.6 $\\pm$ 0.9 \\\\ \n",
      "Banknote & 98.7 $\\pm$ 0.9 & 90.9 $\\pm$ 2.9 & 96.1 $\\pm$ 2.1 & 99.9 $\\pm$ 0.2 \\\\ \n",
      "Biodeg & 95.6 $\\pm$ 1.9 & 94.7 $\\pm$ 1.7 & 93.1 $\\pm$ 1.9 & 95.2 $\\pm$ 1.7 \\\\ \n",
      "Breast-cancer & 99.1 $\\pm$ 1.3 & 80.2 $\\pm$ 19.4 & 88.8 $\\pm$ 6.0 & 90.5 $\\pm$ 5.7 \\\\ \n",
      "Compas & 89.7 $\\pm$ 3.5 & 89.2 $\\pm$ 3.4 & 86.5 $\\pm$ 2.3 & 92.0 $\\pm$ 2.3 \\\\ \n",
      "German & 99.7 $\\pm$ 0.5 & 98.5 $\\pm$ 1.0 & 99.9 $\\pm$ 0.3 & 100 $\\pm$ 0.0 \\\\ \n",
      "Heart & 99.2 $\\pm$ 1.4 & 98.8 $\\pm$ 1.6 & 98.8 $\\pm$ 2.2 & 99.5 $\\pm$ 1.6 \\\\ \n",
      "Heloc & 97.4 $\\pm$ 3.1 & 95.6 $\\pm$ 2.8 & 97.6 $\\pm$ 2.6 & 100 $\\pm$ 0.0 \\\\ \n",
      "Liver & 96.8 $\\pm$ 2.7 & 94.5 $\\pm$ 4.0 & 95.7 $\\pm$ 3.2 & 98.7 $\\pm$ 1.7 \\\\ \n",
      "Magic & 95.6 $\\pm$ 2.1 & 93.8 $\\pm$ 2.3 & 94.5 $\\pm$ 2.7 & 98.9 $\\pm$ 0.8 \\\\ \n",
      "Mammographic & 98.8 $\\pm$ 1.5 & 98.6 $\\pm$ 1.8 & 98.9 $\\pm$ 1.9 & 99.4 $\\pm$ 1.5 \\\\ \n",
      "Phishing & 96.8 $\\pm$ 1.0 & 96.4 $\\pm$ 1.0 & 94.6 $\\pm$ 2.0 & 97.8 $\\pm$ 0.8 \\\\ \n",
      "Pima & 99.0 $\\pm$ 1.0 & 98.4 $\\pm$ 1.6 & 98.9 $\\pm$ 0.9 & 99.5 $\\pm$ 0.6 \\\\ \n",
      "Spam & 97.0 $\\pm$ 0.6 & 94.8 $\\pm$ 1.5 & 94.6 $\\pm$ 2.2 & 98.7 $\\pm$ 1.0 \\\\ \n",
      "Wine & 99.0 $\\pm$ 0.7 & 98.5 $\\pm$ 0.8 & 98.8 $\\pm$ 0.6 & 99.8 $\\pm$ 0.3 \\\\ \n",
      "\n"
     ]
    }
   ],
   "source": [
    "# plausibility comparison\n",
    "\n",
    "print('Plausibility comparison')\n",
    "plausibility = np.concatenate((effectiveness_opt_L1[:,-2,:,:], effectiveness_opt_L2[:,-2,:,:]), axis=0)\n",
    "\n",
    "plausibility_avg = plausibility.mean(axis=0).round(3) * 100\n",
    "plausibility_std = plausibility.std(axis=0).round(3)  * 100\n",
    "\n",
    "\n",
    "latex_string = ''\n",
    "for d in range(len(data_names)):\n",
    "    \n",
    "    latex_string += str.capitalize(data_names[d]) + ' & '\n",
    "    \n",
    "    for m in range(len(methods)):\n",
    "        if plausibility_avg[d,m] == 100:\n",
    "            latex_string += \"{}\".format(int(plausibility_avg[d,m])) + ' $\\\\pm$ 0.0 & '\n",
    "        else:\n",
    "            latex_string += \"{:.1f}\".format(plausibility_avg[d,m]) + \" $\\\\pm$ \" + \"{:.1f}\".format(plausibility_std[d,m]) + ' & '\n",
    "        \n",
    "    latex_string = latex_string[:-2]\n",
    "    latex_string += '\\\\\\\\ \\n'\n",
    "    \n",
    "print(latex_string)"
   ]
  },
  {
   "cell_type": "code",
   "execution_count": 9,
   "id": "917c6568-57e4-4048-b82f-ceedd1b8d92c",
   "metadata": {},
   "outputs": [
    {
     "name": "stdout",
     "output_type": "stream",
     "text": [
      "L2 distance comparison\n",
      "Adult & 0.885 $\\pm$ 0.060 & 0.850 $\\pm$ 0.061 & 0.684 $\\pm$ 0.049 & 0.467 $\\pm$ 0.043 \\\\ \n",
      "Banknote & 1.097 $\\pm$ 0.013 & 1.049 $\\pm$ 0.014 & 1.036 $\\pm$ 0.016 & 0.723 $\\pm$ 0.020 \\\\ \n",
      "Biodeg & 3.618 $\\pm$ 0.315 & 3.352 $\\pm$ 0.320 & 2.644 $\\pm$ 0.146 & 1.974 $\\pm$ 0.168 \\\\ \n",
      "Breast-cancer & 4.130 $\\pm$ 0.171 & 3.952 $\\pm$ 0.145 & 3.341 $\\pm$ 0.126 & 3.104 $\\pm$ 0.150 \\\\ \n",
      "Compas & 0.375 $\\pm$ 0.070 & 0.351 $\\pm$ 0.071 & 0.280 $\\pm$ 0.063 & 0.115 $\\pm$ 0.016 \\\\ \n",
      "German & 3.477 $\\pm$ 0.065 & 3.165 $\\pm$ 0.094 & 2.269 $\\pm$ 0.035 & 0.945 $\\pm$ 0.084 \\\\ \n",
      "Heart & 2.862 $\\pm$ 0.119 & 2.517 $\\pm$ 0.120 & 1.987 $\\pm$ 0.071 & 0.860 $\\pm$ 0.063 \\\\ \n",
      "Heloc & 2.360 $\\pm$ 0.270 & 2.110 $\\pm$ 0.301 & 1.950 $\\pm$ 0.202 & 0.743 $\\pm$ 0.140 \\\\ \n",
      "Liver & 1.093 $\\pm$ 0.117 & 0.902 $\\pm$ 0.091 & 0.957 $\\pm$ 0.099 & 0.332 $\\pm$ 0.075 \\\\ \n",
      "Magic & 4.933 $\\pm$ 0.320 & 4.670 $\\pm$ 0.355 & 3.576 $\\pm$ 0.184 & 1.499 $\\pm$ 0.121 \\\\ \n",
      "Mammographic & 0.710 $\\pm$ 0.366 & 0.608 $\\pm$ 0.109 & 0.398 $\\pm$ 0.083 & 0.262 $\\pm$ 0.089 \\\\ \n",
      "Phishing & 3.305 $\\pm$ 0.059 & 3.210 $\\pm$ 0.058 & 1.767 $\\pm$ 0.029 & 0.935 $\\pm$ 0.013 \\\\ \n",
      "Pima & 1.424 $\\pm$ 0.044 & 1.274 $\\pm$ 0.063 & 1.321 $\\pm$ 0.044 & 0.680 $\\pm$ 0.052 \\\\ \n",
      "Spam & 4.693 $\\pm$ 0.263 & 4.468 $\\pm$ 0.237 & 3.497 $\\pm$ 0.136 & 1.311 $\\pm$ 0.175 \\\\ \n",
      "Wine & 1.484 $\\pm$ 0.062 & 1.300 $\\pm$ 0.070 & 1.463 $\\pm$ 0.067 & 0.678 $\\pm$ 0.055 \\\\ \n",
      "\n"
     ]
    }
   ],
   "source": [
    "# L2 comparison\n",
    "\n",
    "print('L2 distance comparison')\n",
    "\n",
    "l2_distance = effectiveness_opt_L2[:, 1,:,:]\n",
    "l2_avg = l2_distance.mean(axis=0).round(3)\n",
    "l2_std = l2_distance.std(axis=0).round(3)\n",
    "\n",
    "latex_string = ''\n",
    "for d in range(len(data_names)):\n",
    "    \n",
    "    latex_string += str.capitalize(data_names[d]) + ' & '\n",
    "    \n",
    "    for m in range(len(methods)):\n",
    "        latex_string += \"{:.3f}\".format(l2_avg[d,m]) + \" $\\\\pm$ \" + \"{:.3f}\".format(l2_std[d,m]) + ' & '\n",
    "        \n",
    "    latex_string = latex_string[:-2]\n",
    "    latex_string += '\\\\\\\\ \\n'\n",
    "    \n",
    "print(latex_string)"
   ]
  },
  {
   "cell_type": "code",
   "execution_count": 11,
   "id": "b486e484-783d-40a3-9691-f644f739eb35",
   "metadata": {},
   "outputs": [
    {
     "name": "stdout",
     "output_type": "stream",
     "text": [
      "L1 distance comparison\n",
      "Adult & 2.213 $\\pm$ 0.217 & 2.082 $\\pm$ 0.191 & 1.752 $\\pm$ 0.172 & 1.189 $\\pm$ 0.155 \\\\ \n",
      "Banknote & 2.209 $\\pm$ 0.025 & 2.036 $\\pm$ 0.037 & 1.975 $\\pm$ 0.036 & 1.027 $\\pm$ 0.036 \\\\ \n",
      "Biodeg & 23.519 $\\pm$ 2.134 & 20.732 $\\pm$ 2.035 & 14.896 $\\pm$ 0.895 & 9.515 $\\pm$ 0.922 \\\\ \n",
      "Breast-cancer & 24.543 $\\pm$ 1.106 & 22.378 $\\pm$ 0.961 & 17.291 $\\pm$ 0.963 & 15.840 $\\pm$ 0.978 \\\\ \n",
      "Compas & 1.139 $\\pm$ 0.286 & 1.046 $\\pm$ 0.287 & 0.892 $\\pm$ 0.271 & 0.243 $\\pm$ 0.048 \\\\ \n",
      "German & 11.193 $\\pm$ 0.430 & 8.975 $\\pm$ 0.456 & 7.594 $\\pm$ 0.284 & 1.815 $\\pm$ 0.238 \\\\ \n",
      "Heart & 7.938 $\\pm$ 0.386 & 6.318 $\\pm$ 0.427 & 5.780 $\\pm$ 0.244 & 1.596 $\\pm$ 0.180 \\\\ \n",
      "Heloc & 12.289 $\\pm$ 1.901 & 10.026 $\\pm$ 1.889 & 9.055 $\\pm$ 1.131 & 2.051 $\\pm$ 0.421 \\\\ \n",
      "Liver & 3.059 $\\pm$ 0.336 & 2.043 $\\pm$ 0.166 & 2.628 $\\pm$ 0.290 & 0.681 $\\pm$ 0.181 \\\\ \n",
      "Magic & 49.603 $\\pm$ 4.332 & 46.957 $\\pm$ 4.377 & 31.812 $\\pm$ 2.104 & 11.509 $\\pm$ 1.379 \\\\ \n",
      "Mammographic & 1.367 $\\pm$ 0.445 & 1.316 $\\pm$ 0.445 & 0.876 $\\pm$ 0.102 & 0.607 $\\pm$ 0.091 \\\\ \n",
      "Phishing & 9.714 $\\pm$ 0.396 & 9.160 $\\pm$ 0.357 & 5.311 $\\pm$ 0.205 & 1.720 $\\pm$ 0.075 \\\\ \n",
      "Pima & 4.020 $\\pm$ 0.101 & 3.329 $\\pm$ 0.148 & 3.632 $\\pm$ 0.100 & 1.310 $\\pm$ 0.128 \\\\ \n",
      "Spam & 48.076 $\\pm$ 3.431 & 45.433 $\\pm$ 3.360 & 31.813 $\\pm$ 1.355 & 10.124 $\\pm$ 1.244 \\\\ \n",
      "Wine & 5.396 $\\pm$ 0.221 & 4.304 $\\pm$ 0.266 & 5.123 $\\pm$ 0.222 & 1.285 $\\pm$ 0.104 \\\\ \n",
      "\n"
     ]
    }
   ],
   "source": [
    "# L1 comparison\n",
    "\n",
    "print('L1 distance comparison')\n",
    "\n",
    "l1_distance = effectiveness_opt_L1[:, 0,:,:]\n",
    "l1_avg = l1_distance.mean(axis=0).round(3)\n",
    "l1_std = l1_distance.std(axis=0).round(3)\n",
    "\n",
    "latex_string = ''\n",
    "for d in range(len(data_names)):\n",
    "    \n",
    "    latex_string += str.capitalize(data_names[d]) + ' & '\n",
    "    \n",
    "    for m in range(len(methods)):\n",
    "        latex_string += \"{:.3f}\".format(l1_avg[d,m]) + \" $\\\\pm$ \" + \"{:.3f}\".format(l1_std[d,m]) + ' & '\n",
    "        \n",
    "    latex_string = latex_string[:-2]\n",
    "    latex_string += '\\\\\\\\ \\n'\n",
    "    \n",
    "print(latex_string)"
   ]
  },
  {
   "cell_type": "code",
   "execution_count": 13,
   "id": "9de31fa6-c37c-4a23-a31a-d7a3b1dcac3c",
   "metadata": {},
   "outputs": [
    {
     "name": "stdout",
     "output_type": "stream",
     "text": [
      "L0 distance comparison\n",
      "When optimizing L2\n",
      "Adult & 2.835 $\\pm$ 0.167 & 2.485 $\\pm$ 0.149 & 3.037 $\\pm$ 0.184 & 2.255 $\\pm$ 0.130 \\\\ \n",
      "Banknote & 3.999 $\\pm$ 0.003 & 3.511 $\\pm$ 0.055 & 3.771 $\\pm$ 0.039 & 1.845 $\\pm$ 0.073 \\\\ \n",
      "Biodeg & 20.343 $\\pm$ 0.310 & 14.694 $\\pm$ 0.263 & 18.759 $\\pm$ 0.280 & 10.349 $\\pm$ 0.886 \\\\ \n",
      "Breast-cancer & 29.979 $\\pm$ 0.019 & 26.806 $\\pm$ 0.717 & 20.660 $\\pm$ 0.773 & 18.050 $\\pm$ 1.429 \\\\ \n",
      "Compas & 1.690 $\\pm$ 0.031 & 1.440 $\\pm$ 0.020 & 1.766 $\\pm$ 0.051 & 1.374 $\\pm$ 0.043 \\\\ \n",
      "German & 6.984 $\\pm$ 0.141 & 4.832 $\\pm$ 0.271 & 7.550 $\\pm$ 0.097 & 2.670 $\\pm$ 0.157 \\\\ \n",
      "Heart & 6.581 $\\pm$ 0.226 & 4.812 $\\pm$ 0.272 & 7.079 $\\pm$ 0.206 & 2.323 $\\pm$ 0.186 \\\\ \n",
      "Heloc & 15.533 $\\pm$ 0.300 & 11.916 $\\pm$ 0.630 & 15.457 $\\pm$ 0.383 & 3.656 $\\pm$ 0.209 \\\\ \n",
      "Liver & 5.258 $\\pm$ 0.106 & 3.475 $\\pm$ 0.214 & 5.232 $\\pm$ 0.084 & 1.873 $\\pm$ 0.158 \\\\ \n",
      "Magic & 16.355 $\\pm$ 0.640 & 13.700 $\\pm$ 0.561 & 17.001 $\\pm$ 0.523 & 5.473 $\\pm$ 0.671 \\\\ \n",
      "Mammographic & 1.710 $\\pm$ 0.092 & 1.581 $\\pm$ 0.166 & 1.816 $\\pm$ 0.105 & 1.242 $\\pm$ 0.069 \\\\ \n",
      "Phishing & 3.705 $\\pm$ 0.072 & 3.414 $\\pm$ 0.070 & 3.996 $\\pm$ 0.088 & 1.765 $\\pm$ 0.028 \\\\ \n",
      "Pima & 6.760 $\\pm$ 0.092 & 5.289 $\\pm$ 0.196 & 6.733 $\\pm$ 0.108 & 3.015 $\\pm$ 0.188 \\\\ \n",
      "Spam & 16.223 $\\pm$ 0.310 & 13.642 $\\pm$ 0.275 & 16.761 $\\pm$ 0.294 & 4.938 $\\pm$ 0.278 \\\\ \n",
      "Wine & 10.271 $\\pm$ 0.046 & 7.774 $\\pm$ 0.237 & 10.056 $\\pm$ 0.032 & 3.123 $\\pm$ 0.129 \\\\ \n",
      "\n",
      "When optimizing L1\n",
      "Adult & 2.604 $\\pm$ 0.162 & 2.327 $\\pm$ 0.133 & 2.775 $\\pm$ 0.173 & 2.235 $\\pm$ 0.117 \\\\ \n",
      "Banknote & 3.998 $\\pm$ 0.003 & 3.506 $\\pm$ 0.038 & 3.293 $\\pm$ 0.092 & 1.404 $\\pm$ 0.031 \\\\ \n",
      "Biodeg & 19.775 $\\pm$ 0.332 & 14.286 $\\pm$ 0.228 & 18.121 $\\pm$ 0.255 & 7.985 $\\pm$ 0.743 \\\\ \n",
      "Breast-cancer & 29.972 $\\pm$ 0.025 & 26.613 $\\pm$ 0.751 & 19.139 $\\pm$ 0.677 & 16.480 $\\pm$ 1.240 \\\\ \n",
      "Compas & 1.533 $\\pm$ 0.051 & 1.343 $\\pm$ 0.043 & 1.620 $\\pm$ 0.045 & 1.256 $\\pm$ 0.032 \\\\ \n",
      "German & 6.624 $\\pm$ 0.142 & 4.553 $\\pm$ 0.271 & 6.849 $\\pm$ 0.144 & 2.113 $\\pm$ 0.155 \\\\ \n",
      "Heart & 6.321 $\\pm$ 0.219 & 4.743 $\\pm$ 0.330 & 6.475 $\\pm$ 0.199 & 2.014 $\\pm$ 0.161 \\\\ \n",
      "Heloc & 14.315 $\\pm$ 0.264 & 10.787 $\\pm$ 0.454 & 14.157 $\\pm$ 0.219 & 2.573 $\\pm$ 0.074 \\\\ \n",
      "Liver & 4.956 $\\pm$ 0.138 & 3.112 $\\pm$ 0.218 & 4.960 $\\pm$ 0.106 & 1.577 $\\pm$ 0.126 \\\\ \n",
      "Magic & 14.277 $\\pm$ 0.559 & 12.342 $\\pm$ 0.554 & 13.990 $\\pm$ 0.375 & 4.560 $\\pm$ 0.457 \\\\ \n",
      "Mammographic & 1.458 $\\pm$ 0.102 & 1.367 $\\pm$ 0.109 & 1.670 $\\pm$ 0.091 & 1.333 $\\pm$ 0.088 \\\\ \n",
      "Phishing & 3.564 $\\pm$ 0.089 & 3.285 $\\pm$ 0.083 & 3.692 $\\pm$ 0.086 & 1.699 $\\pm$ 0.044 \\\\ \n",
      "Pima & 6.546 $\\pm$ 0.101 & 5.086 $\\pm$ 0.181 & 6.556 $\\pm$ 0.080 & 2.015 $\\pm$ 0.084 \\\\ \n",
      "Spam & 14.086 $\\pm$ 0.285 & 12.182 $\\pm$ 0.279 & 13.832 $\\pm$ 0.294 & 4.235 $\\pm$ 0.230 \\\\ \n",
      "Wine & 10.068 $\\pm$ 0.047 & 7.616 $\\pm$ 0.245 & 9.829 $\\pm$ 0.040 & 1.952 $\\pm$ 0.085 \\\\ \n",
      "\n"
     ]
    }
   ],
   "source": [
    "# L0 comparison\n",
    "\n",
    "print('L0 distance comparison')\n",
    "print('When optimizing L2')\n",
    "\n",
    "l0_opt_l2 = effectiveness_opt_L2[:,2,:,:]\n",
    "l0_opt_l2_avg = l0_opt_l2.mean(axis=0).round(3)\n",
    "l0_opt_l2_std = l0_opt_l2.std(axis=0).round(3)\n",
    "\n",
    "latex_string = ''\n",
    "for d in range(len(data_names)):\n",
    "    \n",
    "    latex_string += str.capitalize(data_names[d]) + ' & '\n",
    "    \n",
    "    for m in range(len(methods)):\n",
    "        latex_string += \"{:.3f}\".format(l0_opt_l2_avg[d,m]) + \" $\\\\pm$ \" + \"{:.3f}\".format(l0_opt_l2_std[d,m]) + ' & '\n",
    "        \n",
    "    latex_string = latex_string[:-2]\n",
    "    latex_string += '\\\\\\\\ \\n'\n",
    "    \n",
    "print(latex_string)\n",
    "\n",
    "print('When optimizing L1')\n",
    "l0_opt_l1 = effectiveness_opt_L1[:,2,:,:]\n",
    "l0_opt_l1_avg = l0_opt_l1.mean(axis=0).round(3)\n",
    "l0_opt_l1_std = l0_opt_l1.std(axis=0).round(3)\n",
    "\n",
    "latex_string = ''\n",
    "for d in range(len(data_names)):\n",
    "    \n",
    "    latex_string += str.capitalize(data_names[d]) + ' & '\n",
    "    \n",
    "    for m in range(len(methods)):\n",
    "        latex_string += \"{:.3f}\".format(l0_opt_l1_avg[d,m]) + \" $\\\\pm$ \" + \"{:.3f}\".format(l0_opt_l1_std[d,m]) + ' & '\n",
    "        \n",
    "    latex_string = latex_string[:-2]\n",
    "    latex_string += '\\\\\\\\ \\n'\n",
    "    \n",
    "print(latex_string)\n",
    "\n"
   ]
  },
  {
   "cell_type": "code",
   "execution_count": null,
   "id": "c1b9dff8-7c00-4343-9229-5d850b303f5a",
   "metadata": {},
   "outputs": [],
   "source": []
  }
 ],
 "metadata": {
  "kernelspec": {
   "display_name": "Python 3 (ipykernel)",
   "language": "python",
   "name": "python3"
  },
  "language_info": {
   "codemirror_mode": {
    "name": "ipython",
    "version": 3
   },
   "file_extension": ".py",
   "mimetype": "text/x-python",
   "name": "python",
   "nbconvert_exporter": "python",
   "pygments_lexer": "ipython3",
   "version": "3.12.4"
  }
 },
 "nbformat": 4,
 "nbformat_minor": 5
}
