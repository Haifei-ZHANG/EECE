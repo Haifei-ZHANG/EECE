{
 "cells": [
  {
   "cell_type": "code",
   "execution_count": 1,
   "id": "8b809943-dcb3-465d-9bcc-7f69b621744d",
   "metadata": {},
   "outputs": [],
   "source": [
    "import numpy as np\n",
    "\n",
    "data_names = ['adult', 'banknote', 'biodeg', 'breast-cancer', 'compas', 'german', 'heart', \n",
    "              'heloc', 'liver', 'magic', 'mammographic', 'phishing', 'pima', 'spam', 'wine']\n",
    "methods = ['MO', 'DisCERN', 'LIRE', 'EECE']\n",
    "\n",
    "\n",
    "effectiveness_opt_L1 = np.load('./results/effectiveness_opt_L1.npy')\n",
    "effectiveness_opt_L2 = np.load('./results/effectiveness_opt_L2.npy')"
   ]
  },
  {
   "cell_type": "code",
   "execution_count": 3,
   "id": "16d6e4f7-9be4-494b-9fbd-b4671d53639e",
   "metadata": {
    "scrolled": true
   },
   "outputs": [
    {
     "data": {
      "text/plain": [
       "(10, 5, 15, 4)"
      ]
     },
     "execution_count": 3,
     "metadata": {},
     "output_type": "execute_result"
    }
   ],
   "source": [
    "effectiveness_opt_L1.shape\n",
    "# 10 is number of folds\n",
    "# 5 is number of evaluation metrics 0: L1, 1: L2, 2: L0, 3: plausibility 4: time\n",
    "# 15 is number of datasets\n",
    "# 4 is number of models"
   ]
  },
  {
   "cell_type": "code",
   "execution_count": 19,
   "id": "6436a660-8d51-48ca-9aee-124194fdfabe",
   "metadata": {},
   "outputs": [
    {
     "name": "stdout",
     "output_type": "stream",
     "text": [
      "Time comparison\n",
      "(20, 15, 4)\n",
      "Adult & 0.3783 $\\pm$ 0.0161 & 0.3966 $\\pm$ 0.0174 & 0.0796 $\\pm$ 0.0044 & 7.0932 $\\pm$ 0.5125 \\\\ \n",
      "Banknote & 0.0053 $\\pm$ 0.0005 & 0.0124 $\\pm$ 0.0008 & 0.0030 $\\pm$ 0.0005 & 0.0151 $\\pm$ 0.0006 \\\\ \n",
      "Biodeg & 0.0115 $\\pm$ 0.0009 & 0.1250 $\\pm$ 0.0039 & 0.0080 $\\pm$ 0.0007 & 0.0956 $\\pm$ 0.0031 \\\\ \n",
      "Breast-cancer & 0.0052 $\\pm$ 0.0008 & 0.0940 $\\pm$ 0.0036 & 0.0048 $\\pm$ 0.0009 & 0.0365 $\\pm$ 0.0015 \\\\ \n",
      "Compas & 0.0221 $\\pm$ 0.0006 & 0.0332 $\\pm$ 0.0011 & 0.0068 $\\pm$ 0.0004 & 0.4968 $\\pm$ 0.0152 \\\\ \n",
      "German & 0.0123 $\\pm$ 0.0003 & 0.0787 $\\pm$ 0.0015 & 0.0077 $\\pm$ 0.0004 & 0.1443 $\\pm$ 0.0023 \\\\ \n",
      "Heart & 0.0033 $\\pm$ 0.0003 & 0.0229 $\\pm$ 0.0007 & 0.0028 $\\pm$ 0.0004 & 0.0181 $\\pm$ 0.0004 \\\\ \n",
      "Heloc & 0.1265 $\\pm$ 0.0029 & 0.1675 $\\pm$ 0.0081 & 0.0622 $\\pm$ 0.0015 & 1.0066 $\\pm$ 0.0426 \\\\ \n",
      "Liver & 0.0037 $\\pm$ 0.0002 & 0.0114 $\\pm$ 0.0008 & 0.0029 $\\pm$ 0.0003 & 0.0284 $\\pm$ 0.0007 \\\\ \n",
      "Magic & 0.0234 $\\pm$ 0.0011 & 0.1713 $\\pm$ 0.0127 & 0.0129 $\\pm$ 0.0003 & 0.1720 $\\pm$ 0.0098 \\\\ \n",
      "Mammographic & 0.0068 $\\pm$ 0.0007 & 0.0145 $\\pm$ 0.0008 & 0.0032 $\\pm$ 0.0005 & 0.0788 $\\pm$ 0.0041 \\\\ \n",
      "Phishing & 0.0950 $\\pm$ 0.0007 & 0.1568 $\\pm$ 0.0012 & 0.0260 $\\pm$ 0.0004 & 0.5885 $\\pm$ 0.0122 \\\\ \n",
      "Pima & 0.0057 $\\pm$ 0.0007 & 0.0174 $\\pm$ 0.0007 & 0.0036 $\\pm$ 0.0007 & 0.0498 $\\pm$ 0.0011 \\\\ \n",
      "Spam & 0.0454 $\\pm$ 0.0005 & 0.1751 $\\pm$ 0.0010 & 0.0215 $\\pm$ 0.0004 & 0.2328 $\\pm$ 0.0029 \\\\ \n",
      "Wine & 0.0100 $\\pm$ 0.0006 & 0.0257 $\\pm$ 0.0009 & 0.0059 $\\pm$ 0.0007 & 0.0944 $\\pm$ 0.0031 \\\\ \n",
      "\n"
     ]
    }
   ],
   "source": [
    "# time comparison\n",
    "\n",
    "print('Time comparison')\n",
    "time_cost = np.concatenate((effectiveness_opt_L1[:,-1,:,:], effectiveness_opt_L2[:,-1,:,:]), axis=0)\n",
    "print(time_cost.shape)\n",
    "time_avg = time_cost.mean(axis=0).round(4)\n",
    "time_std = time_cost.std(axis=0).round(4)\n",
    "\n",
    "latex_string = ''\n",
    "for d in range(len(data_names)):\n",
    "    \n",
    "    latex_string += str.capitalize(data_names[d]) + ' & '\n",
    "    \n",
    "    for m in range(len(methods)):\n",
    "        latex_string += \"{:.4f}\".format(time_avg[d,m]) + \" $\\\\pm$ \" + \"{:.4f}\".format(time_std[d,m]) + ' & '\n",
    "        \n",
    "    latex_string = latex_string[:-2]\n",
    "    latex_string += '\\\\\\\\ \\n'\n",
    "    \n",
    "print(latex_string)"
   ]
  },
  {
   "cell_type": "code",
   "execution_count": 21,
   "id": "b72d9f84-bb5b-439f-9035-83b7f58b0ba1",
   "metadata": {},
   "outputs": [
    {
     "name": "stdout",
     "output_type": "stream",
     "text": [
      "Plausibility comparison\n",
      "Adult & 95.3 $\\pm$ 1.7 & 94.8 $\\pm$ 1.8 & 86.4 $\\pm$ 3.8 & 100 $\\pm$ 0.0 \\\\ \n",
      "Banknote & 98.5 $\\pm$ 1.9 & 91.2 $\\pm$ 2.9 & 96.0 $\\pm$ 2.4 & 100 $\\pm$ 0.0 \\\\ \n",
      "Biodeg & 95.7 $\\pm$ 2.6 & 95.6 $\\pm$ 2.2 & 92.5 $\\pm$ 2.8 & 100 $\\pm$ 0.0 \\\\ \n",
      "Breast-cancer & 99.2 $\\pm$ 1.0 & 79.6 $\\pm$ 20.8 & 89.8 $\\pm$ 5.9 & 100 $\\pm$ 0.0 \\\\ \n",
      "Compas & 88.1 $\\pm$ 3.1 & 88.1 $\\pm$ 3.1 & 86.6 $\\pm$ 2.2 & 100 $\\pm$ 0.0 \\\\ \n",
      "German & 99.8 $\\pm$ 0.4 & 98.6 $\\pm$ 1.2 & 100 $\\pm$ 0.0 & 100 $\\pm$ 0.0 \\\\ \n",
      "Heart & 99.0 $\\pm$ 1.5 & 98.8 $\\pm$ 1.6 & 99.2 $\\pm$ 1.4 & 100 $\\pm$ 0.0 \\\\ \n",
      "Heloc & 93.3 $\\pm$ 7.3 & 86.6 $\\pm$ 4.7 & 91.0 $\\pm$ 7.0 & 100 $\\pm$ 0.0 \\\\ \n",
      "Liver & 97.4 $\\pm$ 3.1 & 95.2 $\\pm$ 3.2 & 95.8 $\\pm$ 2.4 & 100 $\\pm$ 0.0 \\\\ \n",
      "Magic & 97.1 $\\pm$ 1.0 & 95.6 $\\pm$ 2.5 & 95.6 $\\pm$ 1.5 & 100 $\\pm$ 0.0 \\\\ \n",
      "Mammographic & 99.0 $\\pm$ 1.0 & 99.0 $\\pm$ 0.8 & 99.0 $\\pm$ 0.8 & 100 $\\pm$ 0.0 \\\\ \n",
      "Phishing & 97.0 $\\pm$ 1.1 & 96.5 $\\pm$ 1.0 & 95.4 $\\pm$ 1.2 & 99.0 $\\pm$ 0.3 \\\\ \n",
      "Pima & 99.2 $\\pm$ 0.9 & 98.2 $\\pm$ 1.7 & 98.6 $\\pm$ 1.5 & 100 $\\pm$ 0.0 \\\\ \n",
      "Spam & 97.2 $\\pm$ 1.0 & 94.7 $\\pm$ 1.7 & 95.6 $\\pm$ 1.3 & 100 $\\pm$ 0.0 \\\\ \n",
      "Wine & 99.0 $\\pm$ 0.6 & 98.3 $\\pm$ 0.7 & 99.1 $\\pm$ 1.2 & 100 $\\pm$ 0.0 \\\\ \n",
      "\n"
     ]
    }
   ],
   "source": [
    "# plausibility comparison\n",
    "\n",
    "print('Plausibility comparison')\n",
    "plausibility = np.concatenate((effectiveness_opt_L1[:,-2,:,:], effectiveness_opt_L2[:,-2,:,:]), axis=0)\n",
    "\n",
    "plausibility_avg = plausibility.mean(axis=0).round(3) * 100\n",
    "plausibility_std = plausibility.std(axis=0).round(3)  * 100\n",
    "\n",
    "\n",
    "latex_string = ''\n",
    "for d in range(len(data_names)):\n",
    "    \n",
    "    latex_string += str.capitalize(data_names[d]) + ' & '\n",
    "    \n",
    "    for m in range(len(methods)):\n",
    "        if plausibility_avg[d,m] == 100:\n",
    "            latex_string += \"{}\".format(int(plausibility_avg[d,m])) + ' $\\\\pm$ 0.0 & '\n",
    "        else:\n",
    "            latex_string += \"{:.1f}\".format(plausibility_avg[d,m]) + \" $\\\\pm$ \" + \"{:.1f}\".format(plausibility_std[d,m]) + ' & '\n",
    "        \n",
    "    latex_string = latex_string[:-2]\n",
    "    latex_string += '\\\\\\\\ \\n'\n",
    "    \n",
    "print(latex_string)"
   ]
  },
  {
   "cell_type": "code",
   "execution_count": 9,
   "id": "917c6568-57e4-4048-b82f-ceedd1b8d92c",
   "metadata": {},
   "outputs": [
    {
     "name": "stdout",
     "output_type": "stream",
     "text": [
      "L2 distance comparison\n",
      "Adult & 1.058 $\\pm$ 0.050 & 1.016 $\\pm$ 0.052 & 0.804 $\\pm$ 0.037 & 0.576 $\\pm$ 0.052 \\\\ \n",
      "Banknote & 1.098 $\\pm$ 0.034 & 1.050 $\\pm$ 0.035 & 1.035 $\\pm$ 0.033 & 0.721 $\\pm$ 0.032 \\\\ \n",
      "Biodeg & 3.588 $\\pm$ 0.397 & 3.314 $\\pm$ 0.416 & 2.658 $\\pm$ 0.192 & 2.100 $\\pm$ 0.377 \\\\ \n",
      "Breast-cancer & 4.153 $\\pm$ 0.380 & 3.974 $\\pm$ 0.369 & 3.394 $\\pm$ 0.336 & 3.203 $\\pm$ 0.411 \\\\ \n",
      "Compas & 0.374 $\\pm$ 0.068 & 0.350 $\\pm$ 0.068 & 0.269 $\\pm$ 0.041 & 0.124 $\\pm$ 0.020 \\\\ \n",
      "German & 3.469 $\\pm$ 0.070 & 3.178 $\\pm$ 0.085 & 2.262 $\\pm$ 0.054 & 0.949 $\\pm$ 0.044 \\\\ \n",
      "Heart & 2.851 $\\pm$ 0.143 & 2.583 $\\pm$ 0.147 & 1.986 $\\pm$ 0.110 & 0.873 $\\pm$ 0.058 \\\\ \n",
      "Heloc & 3.263 $\\pm$ 0.199 & 2.952 $\\pm$ 0.197 & 2.613 $\\pm$ 0.132 & 1.188 $\\pm$ 0.117 \\\\ \n",
      "Liver & 1.092 $\\pm$ 0.101 & 0.903 $\\pm$ 0.108 & 0.955 $\\pm$ 0.078 & 0.352 $\\pm$ 0.062 \\\\ \n",
      "Magic & 5.003 $\\pm$ 0.292 & 4.736 $\\pm$ 0.307 & 3.596 $\\pm$ 0.140 & 1.558 $\\pm$ 0.185 \\\\ \n",
      "Mammographic & 0.698 $\\pm$ 0.291 & 0.593 $\\pm$ 0.064 & 0.396 $\\pm$ 0.038 & 0.343 $\\pm$ 0.307 \\\\ \n",
      "Phishing & 3.387 $\\pm$ 0.038 & 3.290 $\\pm$ 0.037 & 1.828 $\\pm$ 0.021 & 0.926 $\\pm$ 0.013 \\\\ \n",
      "Pima & 1.435 $\\pm$ 0.044 & 1.284 $\\pm$ 0.056 & 1.333 $\\pm$ 0.042 & 0.681 $\\pm$ 0.056 \\\\ \n",
      "Spam & 4.741 $\\pm$ 0.287 & 4.520 $\\pm$ 0.277 & 3.510 $\\pm$ 0.160 & 1.399 $\\pm$ 0.212 \\\\ \n",
      "Wine & 1.485 $\\pm$ 0.069 & 1.309 $\\pm$ 0.069 & 1.466 $\\pm$ 0.067 & 0.670 $\\pm$ 0.042 \\\\ \n",
      "\n"
     ]
    }
   ],
   "source": [
    "# L2 comparison\n",
    "\n",
    "print('L2 distance comparison')\n",
    "\n",
    "l2_distance = effectiveness_opt_L2[:, 1,:,:]\n",
    "l2_avg = l2_distance.mean(axis=0).round(3)\n",
    "l2_std = l2_distance.std(axis=0).round(3)\n",
    "\n",
    "latex_string = ''\n",
    "for d in range(len(data_names)):\n",
    "    \n",
    "    latex_string += str.capitalize(data_names[d]) + ' & '\n",
    "    \n",
    "    for m in range(len(methods)):\n",
    "        latex_string += \"{:.3f}\".format(l2_avg[d,m]) + \" $\\\\pm$ \" + \"{:.3f}\".format(l2_std[d,m]) + ' & '\n",
    "        \n",
    "    latex_string = latex_string[:-2]\n",
    "    latex_string += '\\\\\\\\ \\n'\n",
    "    \n",
    "print(latex_string)"
   ]
  },
  {
   "cell_type": "code",
   "execution_count": 11,
   "id": "b486e484-783d-40a3-9691-f644f739eb35",
   "metadata": {},
   "outputs": [
    {
     "name": "stdout",
     "output_type": "stream",
     "text": [
      "L1 distance comparison\n",
      "Adult & 2.895 $\\pm$ 0.280 & 2.648 $\\pm$ 0.291 & 2.184 $\\pm$ 0.174 & 1.689 $\\pm$ 0.366 \\\\ \n",
      "Banknote & 2.207 $\\pm$ 0.070 & 2.033 $\\pm$ 0.063 & 1.965 $\\pm$ 0.067 & 1.014 $\\pm$ 0.049 \\\\ \n",
      "Biodeg & 23.139 $\\pm$ 2.732 & 20.280 $\\pm$ 2.833 & 14.855 $\\pm$ 1.066 & 10.098 $\\pm$ 1.618 \\\\ \n",
      "Breast-cancer & 24.600 $\\pm$ 2.161 & 22.457 $\\pm$ 2.149 & 17.607 $\\pm$ 1.716 & 16.365 $\\pm$ 2.180 \\\\ \n",
      "Compas & 1.133 $\\pm$ 0.321 & 1.048 $\\pm$ 0.317 & 0.814 $\\pm$ 0.161 & 0.265 $\\pm$ 0.055 \\\\ \n",
      "German & 11.209 $\\pm$ 0.407 & 9.082 $\\pm$ 0.452 & 7.570 $\\pm$ 0.260 & 1.861 $\\pm$ 0.088 \\\\ \n",
      "Heart & 7.858 $\\pm$ 0.515 & 6.346 $\\pm$ 0.595 & 5.775 $\\pm$ 0.395 & 1.621 $\\pm$ 0.152 \\\\ \n",
      "Heloc & 18.593 $\\pm$ 1.331 & 14.532 $\\pm$ 1.543 & 12.927 $\\pm$ 0.901 & 3.390 $\\pm$ 0.352 \\\\ \n",
      "Liver & 3.086 $\\pm$ 0.286 & 2.112 $\\pm$ 0.226 & 2.652 $\\pm$ 0.232 & 0.709 $\\pm$ 0.150 \\\\ \n",
      "Magic & 50.140 $\\pm$ 3.723 & 47.343 $\\pm$ 3.849 & 31.980 $\\pm$ 1.916 & 12.265 $\\pm$ 2.067 \\\\ \n",
      "Mammographic & 1.346 $\\pm$ 0.330 & 1.303 $\\pm$ 0.341 & 0.869 $\\pm$ 0.046 & 0.729 $\\pm$ 0.380 \\\\ \n",
      "Phishing & 10.209 $\\pm$ 0.257 & 9.656 $\\pm$ 0.238 & 5.625 $\\pm$ 0.137 & 1.687 $\\pm$ 0.040 \\\\ \n",
      "Pima & 4.040 $\\pm$ 0.094 & 3.353 $\\pm$ 0.138 & 3.659 $\\pm$ 0.073 & 1.293 $\\pm$ 0.109 \\\\ \n",
      "Spam & 48.736 $\\pm$ 3.576 & 46.144 $\\pm$ 3.622 & 32.242 $\\pm$ 1.620 & 10.901 $\\pm$ 2.018 \\\\ \n",
      "Wine & 5.405 $\\pm$ 0.236 & 4.345 $\\pm$ 0.237 & 5.129 $\\pm$ 0.224 & 1.288 $\\pm$ 0.091 \\\\ \n",
      "\n"
     ]
    }
   ],
   "source": [
    "# L1 comparison\n",
    "\n",
    "print('L1 distance comparison')\n",
    "\n",
    "l1_distance = effectiveness_opt_L1[:, 0,:,:]\n",
    "l1_avg = l1_distance.mean(axis=0).round(3)\n",
    "l1_std = l1_distance.std(axis=0).round(3)\n",
    "\n",
    "latex_string = ''\n",
    "for d in range(len(data_names)):\n",
    "    \n",
    "    latex_string += str.capitalize(data_names[d]) + ' & '\n",
    "    \n",
    "    for m in range(len(methods)):\n",
    "        latex_string += \"{:.3f}\".format(l1_avg[d,m]) + \" $\\\\pm$ \" + \"{:.3f}\".format(l1_std[d,m]) + ' & '\n",
    "        \n",
    "    latex_string = latex_string[:-2]\n",
    "    latex_string += '\\\\\\\\ \\n'\n",
    "    \n",
    "print(latex_string)"
   ]
  },
  {
   "cell_type": "code",
   "execution_count": 13,
   "id": "9de31fa6-c37c-4a23-a31a-d7a3b1dcac3c",
   "metadata": {},
   "outputs": [
    {
     "name": "stdout",
     "output_type": "stream",
     "text": [
      "L0 distance comparison\n",
      "When optimizing L2\n",
      "Adult & 3.202 $\\pm$ 0.050 & 2.934 $\\pm$ 0.064 & 3.415 $\\pm$ 0.057 & 2.422 $\\pm$ 0.069 \\\\ \n",
      "Banknote & 3.999 $\\pm$ 0.002 & 3.517 $\\pm$ 0.062 & 3.724 $\\pm$ 0.054 & 1.770 $\\pm$ 0.042 \\\\ \n",
      "Biodeg & 20.294 $\\pm$ 0.250 & 14.813 $\\pm$ 0.724 & 18.658 $\\pm$ 0.194 & 10.272 $\\pm$ 0.693 \\\\ \n",
      "Breast-cancer & 29.977 $\\pm$ 0.025 & 26.652 $\\pm$ 0.672 & 20.842 $\\pm$ 0.616 & 18.164 $\\pm$ 1.582 \\\\ \n",
      "Compas & 1.705 $\\pm$ 0.064 & 1.461 $\\pm$ 0.050 & 1.762 $\\pm$ 0.059 & 1.428 $\\pm$ 0.044 \\\\ \n",
      "German & 6.953 $\\pm$ 0.131 & 4.813 $\\pm$ 0.183 & 7.529 $\\pm$ 0.146 & 2.726 $\\pm$ 0.083 \\\\ \n",
      "Heart & 6.479 $\\pm$ 0.206 & 4.910 $\\pm$ 0.277 & 7.137 $\\pm$ 0.322 & 2.273 $\\pm$ 0.131 \\\\ \n",
      "Heloc & 16.286 $\\pm$ 0.234 & 12.705 $\\pm$ 0.570 & 15.805 $\\pm$ 0.276 & 3.505 $\\pm$ 0.160 \\\\ \n",
      "Liver & 5.285 $\\pm$ 0.107 & 3.486 $\\pm$ 0.279 & 5.236 $\\pm$ 0.102 & 1.834 $\\pm$ 0.129 \\\\ \n",
      "Magic & 16.781 $\\pm$ 0.514 & 14.040 $\\pm$ 0.460 & 17.357 $\\pm$ 0.362 & 5.546 $\\pm$ 0.749 \\\\ \n",
      "Mammographic & 1.692 $\\pm$ 0.101 & 1.506 $\\pm$ 0.175 & 1.808 $\\pm$ 0.085 & 1.230 $\\pm$ 0.068 \\\\ \n",
      "Phishing & 3.855 $\\pm$ 0.053 & 3.562 $\\pm$ 0.042 & 4.205 $\\pm$ 0.069 & 1.838 $\\pm$ 0.022 \\\\ \n",
      "Pima & 6.777 $\\pm$ 0.115 & 5.303 $\\pm$ 0.201 & 6.717 $\\pm$ 0.119 & 2.987 $\\pm$ 0.209 \\\\ \n",
      "Spam & 16.857 $\\pm$ 0.341 & 14.252 $\\pm$ 0.338 & 17.248 $\\pm$ 0.283 & 5.013 $\\pm$ 0.526 \\\\ \n",
      "Wine & 10.298 $\\pm$ 0.068 & 7.874 $\\pm$ 0.140 & 10.063 $\\pm$ 0.068 & 3.116 $\\pm$ 0.194 \\\\ \n",
      "\n",
      "When optimizing L1\n",
      "Adult & 2.953 $\\pm$ 0.073 & 2.724 $\\pm$ 0.093 & 3.128 $\\pm$ 0.058 & 2.497 $\\pm$ 0.084 \\\\ \n",
      "Banknote & 3.999 $\\pm$ 0.003 & 3.500 $\\pm$ 0.050 & 3.283 $\\pm$ 0.092 & 1.393 $\\pm$ 0.049 \\\\ \n",
      "Biodeg & 19.774 $\\pm$ 0.304 & 14.374 $\\pm$ 0.687 & 17.989 $\\pm$ 0.229 & 7.987 $\\pm$ 0.717 \\\\ \n",
      "Breast-cancer & 29.965 $\\pm$ 0.028 & 26.624 $\\pm$ 0.616 & 19.519 $\\pm$ 0.803 & 16.896 $\\pm$ 1.553 \\\\ \n",
      "Compas & 1.552 $\\pm$ 0.065 & 1.367 $\\pm$ 0.042 & 1.624 $\\pm$ 0.053 & 1.297 $\\pm$ 0.045 \\\\ \n",
      "German & 6.589 $\\pm$ 0.141 & 4.520 $\\pm$ 0.218 & 6.827 $\\pm$ 0.105 & 2.197 $\\pm$ 0.058 \\\\ \n",
      "Heart & 6.234 $\\pm$ 0.190 & 4.702 $\\pm$ 0.298 & 6.511 $\\pm$ 0.241 & 1.996 $\\pm$ 0.106 \\\\ \n",
      "Heloc & 14.965 $\\pm$ 0.216 & 10.889 $\\pm$ 0.600 & 14.288 $\\pm$ 0.384 & 2.663 $\\pm$ 0.126 \\\\ \n",
      "Liver & 4.983 $\\pm$ 0.124 & 3.186 $\\pm$ 0.310 & 5.047 $\\pm$ 0.110 & 1.616 $\\pm$ 0.141 \\\\ \n",
      "Magic & 14.700 $\\pm$ 0.417 & 12.727 $\\pm$ 0.395 & 14.281 $\\pm$ 0.358 & 4.713 $\\pm$ 0.689 \\\\ \n",
      "Mammographic & 1.430 $\\pm$ 0.091 & 1.349 $\\pm$ 0.057 & 1.678 $\\pm$ 0.109 & 1.293 $\\pm$ 0.050 \\\\ \n",
      "Phishing & 3.690 $\\pm$ 0.047 & 3.410 $\\pm$ 0.035 & 3.833 $\\pm$ 0.058 & 1.715 $\\pm$ 0.018 \\\\ \n",
      "Pima & 6.548 $\\pm$ 0.130 & 5.084 $\\pm$ 0.242 & 6.494 $\\pm$ 0.135 & 2.059 $\\pm$ 0.122 \\\\ \n",
      "Spam & 14.690 $\\pm$ 0.341 & 12.783 $\\pm$ 0.355 & 14.292 $\\pm$ 0.305 & 4.300 $\\pm$ 0.392 \\\\ \n",
      "Wine & 10.095 $\\pm$ 0.073 & 7.730 $\\pm$ 0.152 & 9.808 $\\pm$ 0.092 & 1.969 $\\pm$ 0.052 \\\\ \n",
      "\n"
     ]
    }
   ],
   "source": [
    "# L0 comparison\n",
    "\n",
    "print('L0 distance comparison')\n",
    "print('When optimizing L2')\n",
    "\n",
    "l0_opt_l2 = effectiveness_opt_L2[:,2,:,:]\n",
    "l0_opt_l2_avg = l0_opt_l2.mean(axis=0).round(3)\n",
    "l0_opt_l2_std = l0_opt_l2.std(axis=0).round(3)\n",
    "\n",
    "latex_string = ''\n",
    "for d in range(len(data_names)):\n",
    "    \n",
    "    latex_string += str.capitalize(data_names[d]) + ' & '\n",
    "    \n",
    "    for m in range(len(methods)):\n",
    "        latex_string += \"{:.3f}\".format(l0_opt_l2_avg[d,m]) + \" $\\\\pm$ \" + \"{:.3f}\".format(l0_opt_l2_std[d,m]) + ' & '\n",
    "        \n",
    "    latex_string = latex_string[:-2]\n",
    "    latex_string += '\\\\\\\\ \\n'\n",
    "    \n",
    "print(latex_string)\n",
    "\n",
    "print('When optimizing L1')\n",
    "l0_opt_l1 = effectiveness_opt_L1[:,2,:,:]\n",
    "l0_opt_l1_avg = l0_opt_l1.mean(axis=0).round(3)\n",
    "l0_opt_l1_std = l0_opt_l1.std(axis=0).round(3)\n",
    "\n",
    "latex_string = ''\n",
    "for d in range(len(data_names)):\n",
    "    \n",
    "    latex_string += str.capitalize(data_names[d]) + ' & '\n",
    "    \n",
    "    for m in range(len(methods)):\n",
    "        latex_string += \"{:.3f}\".format(l0_opt_l1_avg[d,m]) + \" $\\\\pm$ \" + \"{:.3f}\".format(l0_opt_l1_std[d,m]) + ' & '\n",
    "        \n",
    "    latex_string = latex_string[:-2]\n",
    "    latex_string += '\\\\\\\\ \\n'\n",
    "    \n",
    "print(latex_string)\n",
    "\n"
   ]
  },
  {
   "cell_type": "code",
   "execution_count": null,
   "id": "c1b9dff8-7c00-4343-9229-5d850b303f5a",
   "metadata": {},
   "outputs": [],
   "source": []
  }
 ],
 "metadata": {
  "kernelspec": {
   "display_name": "Python 3 (ipykernel)",
   "language": "python",
   "name": "python3"
  },
  "language_info": {
   "codemirror_mode": {
    "name": "ipython",
    "version": 3
   },
   "file_extension": ".py",
   "mimetype": "text/x-python",
   "name": "python",
   "nbconvert_exporter": "python",
   "pygments_lexer": "ipython3",
   "version": "3.12.4"
  }
 },
 "nbformat": 4,
 "nbformat_minor": 5
}
