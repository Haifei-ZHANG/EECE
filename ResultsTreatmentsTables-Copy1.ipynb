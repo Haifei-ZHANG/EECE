{
 "cells": [
  {
   "cell_type": "code",
   "execution_count": 1,
   "id": "8b809943-dcb3-465d-9bcc-7f69b621744d",
   "metadata": {},
   "outputs": [],
   "source": [
    "import numpy as np\n",
    "\n",
    "data_names = ['adult', 'banknote', 'biodeg', 'breast-cancer', 'compas', 'german', 'heart', \n",
    "              'heloc', 'liver', 'magic', 'mammographic', 'phishing', 'pima', 'spam', 'wine']\n",
    "methods = ['MO', 'DisCERN', 'LIRE', 'EECE']\n",
    "\n",
    "\n",
    "effectiveness_opt_L1 = np.load('./results/ALL_effectiveness_L1.npy')\n",
    "effectiveness_opt_L2 = np.load('./results/ALL_effectiveness_L2.npy')"
   ]
  },
  {
   "cell_type": "code",
   "execution_count": 3,
   "id": "16d6e4f7-9be4-494b-9fbd-b4671d53639e",
   "metadata": {
    "scrolled": true
   },
   "outputs": [
    {
     "data": {
      "text/plain": [
       "(15, 10, 5, 4)"
      ]
     },
     "execution_count": 3,
     "metadata": {},
     "output_type": "execute_result"
    }
   ],
   "source": [
    "effectiveness_opt_L1.shape\n",
    "# 10 is number of folds\n",
    "# 5 is number of evaluation metrics 0: L1, 1: L2, 2: L0, 3: plausibility 4: time\n",
    "# 15 is number of datasets\n",
    "# 4 is number of models"
   ]
  },
  {
   "cell_type": "code",
   "execution_count": 5,
   "id": "8be37e98-2acb-4e39-b8bb-82273371f9e1",
   "metadata": {},
   "outputs": [
    {
     "data": {
      "text/plain": [
       "(10, 5, 15, 4)"
      ]
     },
     "execution_count": 5,
     "metadata": {},
     "output_type": "execute_result"
    }
   ],
   "source": [
    "effectiveness_opt_L1 = effectiveness_opt_L1.transpose(1, 2, 0, 3)\n",
    "effectiveness_opt_L2 = effectiveness_opt_L2.transpose(1, 2, 0, 3)\n",
    "effectiveness_opt_L1.shape"
   ]
  },
  {
   "cell_type": "code",
   "execution_count": 7,
   "id": "6436a660-8d51-48ca-9aee-124194fdfabe",
   "metadata": {},
   "outputs": [
    {
     "name": "stdout",
     "output_type": "stream",
     "text": [
      "Time comparison\n",
      "(20, 15, 4)\n",
      "Adult & 0.4216 $\\pm$ 0.0026 & 0.4446 $\\pm$ 0.0018 & 0.0929 $\\pm$ 0.0025 & 9.8848 $\\pm$ 0.3990 \\\\ \n",
      "Banknote & 0.0071 $\\pm$ 0.0001 & 0.0172 $\\pm$ 0.0003 & 0.0045 $\\pm$ 0.0001 & 0.0207 $\\pm$ 0.0004 \\\\ \n",
      "Biodeg & 0.0089 $\\pm$ 0.0003 & 0.0990 $\\pm$ 0.0017 & 0.0064 $\\pm$ 0.0002 & 0.0565 $\\pm$ 0.0024 \\\\ \n",
      "Breast-cancer & 0.0054 $\\pm$ 0.0002 & 0.0832 $\\pm$ 0.0038 & 0.0046 $\\pm$ 0.0001 & 0.0128 $\\pm$ 0.0005 \\\\ \n",
      "Compas & 0.0253 $\\pm$ 0.0002 & 0.0394 $\\pm$ 0.0005 & 0.0089 $\\pm$ 0.0001 & 0.6019 $\\pm$ 0.0080 \\\\ \n",
      "German & 0.0102 $\\pm$ 0.0002 & 0.0636 $\\pm$ 0.0007 & 0.0064 $\\pm$ 0.0002 & 0.1231 $\\pm$ 0.0031 \\\\ \n",
      "Heart & 0.0046 $\\pm$ 0.0001 & 0.0317 $\\pm$ 0.0012 & 0.0041 $\\pm$ 0.0001 & 0.0240 $\\pm$ 0.0007 \\\\ \n",
      "Heloc & 0.0999 $\\pm$ 0.0006 & 0.1461 $\\pm$ 0.0022 & 0.0489 $\\pm$ 0.0004 & 1.8926 $\\pm$ 0.0528 \\\\ \n",
      "Liver & 0.0051 $\\pm$ 0.0001 & 0.0158 $\\pm$ 0.0005 & 0.0042 $\\pm$ 0.0001 & 0.0362 $\\pm$ 0.0010 \\\\ \n",
      "Magic & 0.0172 $\\pm$ 0.0002 & 0.1530 $\\pm$ 0.0015 & 0.0102 $\\pm$ 0.0002 & 0.1146 $\\pm$ 0.0027 \\\\ \n",
      "Mammographic & 0.0084 $\\pm$ 0.0001 & 0.0202 $\\pm$ 0.0007 & 0.0047 $\\pm$ 0.0001 & 0.1024 $\\pm$ 0.0030 \\\\ \n",
      "Phishing & 0.0747 $\\pm$ 0.0007 & 0.1459 $\\pm$ 0.0009 & 0.0219 $\\pm$ 0.0004 & 1.5797 $\\pm$ 0.0120 \\\\ \n",
      "Pima & 0.0077 $\\pm$ 0.0001 & 0.0249 $\\pm$ 0.0009 & 0.0053 $\\pm$ 0.0001 & 0.0649 $\\pm$ 0.0010 \\\\ \n",
      "Spam & 0.0323 $\\pm$ 0.0003 & 0.1670 $\\pm$ 0.0013 & 0.0167 $\\pm$ 0.0002 & 0.2265 $\\pm$ 0.0030 \\\\ \n",
      "Wine & 0.0132 $\\pm$ 0.0002 & 0.0348 $\\pm$ 0.0005 & 0.0077 $\\pm$ 0.0001 & 0.1182 $\\pm$ 0.0014 \\\\ \n",
      "\n"
     ]
    }
   ],
   "source": [
    "# time comparison\n",
    "\n",
    "print('Time comparison')\n",
    "time_cost = np.concatenate((effectiveness_opt_L1[:,-1,:,:], effectiveness_opt_L2[:,-1,:,:]), axis=0)\n",
    "print(time_cost.shape)\n",
    "time_avg = time_cost.mean(axis=0).round(4)\n",
    "time_std = time_cost.std(axis=0).round(4)\n",
    "\n",
    "latex_string = ''\n",
    "for d in range(len(data_names)):\n",
    "    \n",
    "    latex_string += str.capitalize(data_names[d]) + ' & '\n",
    "    \n",
    "    for m in range(len(methods)):\n",
    "        latex_string += \"{:.4f}\".format(time_avg[d,m]) + \" $\\\\pm$ \" + \"{:.4f}\".format(time_std[d,m]) + ' & '\n",
    "        \n",
    "    latex_string = latex_string[:-2]\n",
    "    latex_string += '\\\\\\\\ \\n'\n",
    "    \n",
    "print(latex_string)"
   ]
  },
  {
   "cell_type": "code",
   "execution_count": 9,
   "id": "b72d9f84-bb5b-439f-9035-83b7f58b0ba1",
   "metadata": {},
   "outputs": [
    {
     "name": "stdout",
     "output_type": "stream",
     "text": [
      "Plausibility comparison\n",
      "Adult & 95.6 $\\pm$ 1.6 & 95.1 $\\pm$ 1.7 & 86.4 $\\pm$ 3.2 & 100 $\\pm$ 0.0 \\\\ \n",
      "Banknote & 98.8 $\\pm$ 1.5 & 91.2 $\\pm$ 3.7 & 95.4 $\\pm$ 3.1 & 100 $\\pm$ 0.0 \\\\ \n",
      "Biodeg & 95.1 $\\pm$ 2.2 & 94.7 $\\pm$ 2.8 & 92.9 $\\pm$ 2.4 & 100 $\\pm$ 0.0 \\\\ \n",
      "Breast-cancer & 99.0 $\\pm$ 1.0 & 82.8 $\\pm$ 12.2 & 87.6 $\\pm$ 4.8 & 100 $\\pm$ 0.0 \\\\ \n",
      "Compas & 88.2 $\\pm$ 3.2 & 87.6 $\\pm$ 3.0 & 86.9 $\\pm$ 3.8 & 100 $\\pm$ 0.0 \\\\ \n",
      "German & 99.8 $\\pm$ 0.5 & 98.5 $\\pm$ 1.5 & 100 $\\pm$ 0.0 & 100 $\\pm$ 0.0 \\\\ \n",
      "Heart & 99.0 $\\pm$ 2.1 & 98.4 $\\pm$ 3.0 & 99.0 $\\pm$ 2.1 & 100 $\\pm$ 0.0 \\\\ \n",
      "Heloc & 93.4 $\\pm$ 7.1 & 88.0 $\\pm$ 6.0 & 93.0 $\\pm$ 7.5 & 100 $\\pm$ 0.0 \\\\ \n",
      "Liver & 98.1 $\\pm$ 2.5 & 95.0 $\\pm$ 4.1 & 96.1 $\\pm$ 2.1 & 100 $\\pm$ 0.0 \\\\ \n",
      "Magic & 97.2 $\\pm$ 1.2 & 95.9 $\\pm$ 2.1 & 96.1 $\\pm$ 1.5 & 100 $\\pm$ 0.0 \\\\ \n",
      "Mammographic & 98.9 $\\pm$ 1.1 & 99.0 $\\pm$ 1.0 & 98.8 $\\pm$ 1.3 & 100 $\\pm$ 0.0 \\\\ \n",
      "Phishing & 97.0 $\\pm$ 1.0 & 96.5 $\\pm$ 1.4 & 94.5 $\\pm$ 2.0 & 99.7 $\\pm$ 0.4 \\\\ \n",
      "Pima & 99.2 $\\pm$ 1.2 & 98.2 $\\pm$ 1.2 & 98.9 $\\pm$ 1.3 & 100 $\\pm$ 0.0 \\\\ \n",
      "Spam & 97.2 $\\pm$ 0.6 & 95.8 $\\pm$ 0.7 & 94.9 $\\pm$ 1.3 & 100 $\\pm$ 0.0 \\\\ \n",
      "Wine & 99.0 $\\pm$ 0.8 & 98.4 $\\pm$ 0.9 & 98.6 $\\pm$ 0.7 & 100 $\\pm$ 0.0 \\\\ \n",
      "\n"
     ]
    }
   ],
   "source": [
    "# plausibility comparison\n",
    "\n",
    "print('Plausibility comparison')\n",
    "plausibility = np.concatenate((effectiveness_opt_L1[:,-2,:,:], effectiveness_opt_L2[:,-2,:,:]), axis=0)\n",
    "\n",
    "plausibility_avg = plausibility.mean(axis=0).round(3) * 100\n",
    "plausibility_std = plausibility.std(axis=0).round(3)  * 100\n",
    "\n",
    "\n",
    "latex_string = ''\n",
    "for d in range(len(data_names)):\n",
    "    \n",
    "    latex_string += str.capitalize(data_names[d]) + ' & '\n",
    "    \n",
    "    for m in range(len(methods)):\n",
    "        if plausibility_avg[d,m] == 100:\n",
    "            latex_string += \"{}\".format(int(plausibility_avg[d,m])) + ' $\\\\pm$ 0.0 & '\n",
    "        else:\n",
    "            latex_string += \"{:.1f}\".format(plausibility_avg[d,m]) + \" $\\\\pm$ \" + \"{:.1f}\".format(plausibility_std[d,m]) + ' & '\n",
    "        \n",
    "    latex_string = latex_string[:-2]\n",
    "    latex_string += '\\\\\\\\ \\n'\n",
    "    \n",
    "print(latex_string)"
   ]
  },
  {
   "cell_type": "code",
   "execution_count": 11,
   "id": "917c6568-57e4-4048-b82f-ceedd1b8d92c",
   "metadata": {},
   "outputs": [
    {
     "name": "stdout",
     "output_type": "stream",
     "text": [
      "L2 distance comparison\n",
      "Adult & 1.057 $\\pm$ 0.034 & 1.012 $\\pm$ 0.022 & 0.805 $\\pm$ 0.023 & 0.588 $\\pm$ 0.042 \\\\ \n",
      "Banknote & 1.098 $\\pm$ 0.025 & 1.051 $\\pm$ 0.027 & 1.037 $\\pm$ 0.025 & 0.721 $\\pm$ 0.023 \\\\ \n",
      "Biodeg & 3.619 $\\pm$ 0.459 & 3.345 $\\pm$ 0.469 & 2.647 $\\pm$ 0.252 & 2.076 $\\pm$ 0.417 \\\\ \n",
      "Breast-cancer & 4.129 $\\pm$ 0.284 & 3.932 $\\pm$ 0.283 & 3.371 $\\pm$ 0.259 & 3.179 $\\pm$ 0.329 \\\\ \n",
      "Compas & 0.377 $\\pm$ 0.055 & 0.354 $\\pm$ 0.048 & 0.284 $\\pm$ 0.054 & 0.122 $\\pm$ 0.010 \\\\ \n",
      "German & 3.467 $\\pm$ 0.043 & 3.170 $\\pm$ 0.055 & 2.264 $\\pm$ 0.046 & 0.945 $\\pm$ 0.059 \\\\ \n",
      "Heart & 2.844 $\\pm$ 0.197 & 2.513 $\\pm$ 0.193 & 1.971 $\\pm$ 0.117 & 0.844 $\\pm$ 0.073 \\\\ \n",
      "Heloc & 3.259 $\\pm$ 0.166 & 2.931 $\\pm$ 0.246 & 2.629 $\\pm$ 0.133 & 1.189 $\\pm$ 0.119 \\\\ \n",
      "Liver & 1.090 $\\pm$ 0.132 & 0.892 $\\pm$ 0.107 & 0.956 $\\pm$ 0.133 & 0.363 $\\pm$ 0.135 \\\\ \n",
      "Magic & 4.999 $\\pm$ 0.364 & 4.751 $\\pm$ 0.359 & 3.596 $\\pm$ 0.149 & 1.506 $\\pm$ 0.185 \\\\ \n",
      "Mammographic & 0.691 $\\pm$ 0.279 & 0.580 $\\pm$ 0.048 & 0.392 $\\pm$ 0.040 & 0.345 $\\pm$ 0.309 \\\\ \n",
      "Phishing & 3.330 $\\pm$ 0.054 & 3.236 $\\pm$ 0.058 & 1.782 $\\pm$ 0.027 & 0.942 $\\pm$ 0.014 \\\\ \n",
      "Pima & 1.424 $\\pm$ 0.056 & 1.278 $\\pm$ 0.048 & 1.320 $\\pm$ 0.050 & 0.670 $\\pm$ 0.049 \\\\ \n",
      "Spam & 4.734 $\\pm$ 0.162 & 4.518 $\\pm$ 0.143 & 3.495 $\\pm$ 0.090 & 1.400 $\\pm$ 0.138 \\\\ \n",
      "Wine & 1.487 $\\pm$ 0.066 & 1.305 $\\pm$ 0.062 & 1.472 $\\pm$ 0.060 & 0.689 $\\pm$ 0.037 \\\\ \n",
      "\n"
     ]
    }
   ],
   "source": [
    "# L2 comparison\n",
    "\n",
    "print('L2 distance comparison')\n",
    "\n",
    "l2_distance = effectiveness_opt_L2[:, 1,:,:]\n",
    "l2_avg = l2_distance.mean(axis=0).round(3)\n",
    "l2_std = l2_distance.std(axis=0).round(3)\n",
    "\n",
    "latex_string = ''\n",
    "for d in range(len(data_names)):\n",
    "    \n",
    "    latex_string += str.capitalize(data_names[d]) + ' & '\n",
    "    \n",
    "    for m in range(len(methods)):\n",
    "        latex_string += \"{:.3f}\".format(l2_avg[d,m]) + \" $\\\\pm$ \" + \"{:.3f}\".format(l2_std[d,m]) + ' & '\n",
    "        \n",
    "    latex_string = latex_string[:-2]\n",
    "    latex_string += '\\\\\\\\ \\n'\n",
    "    \n",
    "print(latex_string)"
   ]
  },
  {
   "cell_type": "code",
   "execution_count": 13,
   "id": "b486e484-783d-40a3-9691-f644f739eb35",
   "metadata": {},
   "outputs": [
    {
     "name": "stdout",
     "output_type": "stream",
     "text": [
      "L1 distance comparison\n",
      "Adult & 2.879 $\\pm$ 0.219 & 2.614 $\\pm$ 0.149 & 2.184 $\\pm$ 0.144 & 1.835 $\\pm$ 0.263 \\\\ \n",
      "Banknote & 2.206 $\\pm$ 0.053 & 2.045 $\\pm$ 0.065 & 1.973 $\\pm$ 0.053 & 1.016 $\\pm$ 0.036 \\\\ \n",
      "Biodeg & 23.539 $\\pm$ 3.218 & 20.703 $\\pm$ 3.335 & 14.887 $\\pm$ 1.550 & 10.018 $\\pm$ 2.080 \\\\ \n",
      "Breast-cancer & 24.563 $\\pm$ 1.996 & 22.244 $\\pm$ 1.918 & 17.509 $\\pm$ 1.476 & 16.429 $\\pm$ 1.868 \\\\ \n",
      "Compas & 1.141 $\\pm$ 0.266 & 1.058 $\\pm$ 0.249 & 0.903 $\\pm$ 0.256 & 0.260 $\\pm$ 0.034 \\\\ \n",
      "German & 11.172 $\\pm$ 0.313 & 9.037 $\\pm$ 0.401 & 7.558 $\\pm$ 0.172 & 1.849 $\\pm$ 0.170 \\\\ \n",
      "Heart & 7.897 $\\pm$ 0.703 & 6.189 $\\pm$ 0.602 & 5.725 $\\pm$ 0.483 & 1.553 $\\pm$ 0.203 \\\\ \n",
      "Heloc & 18.596 $\\pm$ 1.163 & 14.974 $\\pm$ 1.643 & 12.905 $\\pm$ 0.771 & 3.381 $\\pm$ 0.340 \\\\ \n",
      "Liver & 3.062 $\\pm$ 0.327 & 2.108 $\\pm$ 0.223 & 2.643 $\\pm$ 0.331 & 0.735 $\\pm$ 0.284 \\\\ \n",
      "Magic & 50.088 $\\pm$ 4.937 & 47.335 $\\pm$ 4.833 & 31.865 $\\pm$ 1.530 & 11.812 $\\pm$ 2.207 \\\\ \n",
      "Mammographic & 1.351 $\\pm$ 0.308 & 1.306 $\\pm$ 0.316 & 0.856 $\\pm$ 0.092 & 0.722 $\\pm$ 0.370 \\\\ \n",
      "Phishing & 9.832 $\\pm$ 0.342 & 9.283 $\\pm$ 0.338 & 5.369 $\\pm$ 0.177 & 1.721 $\\pm$ 0.055 \\\\ \n",
      "Pima & 4.016 $\\pm$ 0.148 & 3.341 $\\pm$ 0.114 & 3.627 $\\pm$ 0.126 & 1.279 $\\pm$ 0.120 \\\\ \n",
      "Spam & 48.579 $\\pm$ 2.540 & 45.962 $\\pm$ 2.456 & 32.022 $\\pm$ 1.253 & 10.927 $\\pm$ 1.370 \\\\ \n",
      "Wine & 5.415 $\\pm$ 0.223 & 4.354 $\\pm$ 0.233 & 5.148 $\\pm$ 0.204 & 1.306 $\\pm$ 0.069 \\\\ \n",
      "\n"
     ]
    }
   ],
   "source": [
    "# L1 comparison\n",
    "\n",
    "print('L1 distance comparison')\n",
    "\n",
    "l1_distance = effectiveness_opt_L1[:, 0,:,:]\n",
    "l1_avg = l1_distance.mean(axis=0).round(3)\n",
    "l1_std = l1_distance.std(axis=0).round(3)\n",
    "\n",
    "latex_string = ''\n",
    "for d in range(len(data_names)):\n",
    "    \n",
    "    latex_string += str.capitalize(data_names[d]) + ' & '\n",
    "    \n",
    "    for m in range(len(methods)):\n",
    "        latex_string += \"{:.3f}\".format(l1_avg[d,m]) + \" $\\\\pm$ \" + \"{:.3f}\".format(l1_std[d,m]) + ' & '\n",
    "        \n",
    "    latex_string = latex_string[:-2]\n",
    "    latex_string += '\\\\\\\\ \\n'\n",
    "    \n",
    "print(latex_string)"
   ]
  },
  {
   "cell_type": "code",
   "execution_count": 15,
   "id": "9de31fa6-c37c-4a23-a31a-d7a3b1dcac3c",
   "metadata": {},
   "outputs": [
    {
     "name": "stdout",
     "output_type": "stream",
     "text": [
      "L0 distance comparison\n",
      "When optimizing L2\n",
      "Adult & 3.213 $\\pm$ 0.048 & 2.933 $\\pm$ 0.070 & 3.418 $\\pm$ 0.070 & 2.387 $\\pm$ 0.082 \\\\ \n",
      "Banknote & 3.999 $\\pm$ 0.002 & 3.513 $\\pm$ 0.050 & 3.764 $\\pm$ 0.055 & 1.789 $\\pm$ 0.086 \\\\ \n",
      "Biodeg & 20.344 $\\pm$ 0.351 & 14.780 $\\pm$ 0.609 & 18.784 $\\pm$ 0.346 & 9.916 $\\pm$ 0.950 \\\\ \n",
      "Breast-cancer & 29.982 $\\pm$ 0.011 & 26.788 $\\pm$ 0.662 & 20.857 $\\pm$ 0.431 & 18.366 $\\pm$ 1.222 \\\\ \n",
      "Compas & 1.701 $\\pm$ 0.037 & 1.466 $\\pm$ 0.037 & 1.771 $\\pm$ 0.040 & 1.408 $\\pm$ 0.027 \\\\ \n",
      "German & 6.952 $\\pm$ 0.070 & 4.773 $\\pm$ 0.176 & 7.535 $\\pm$ 0.134 & 2.718 $\\pm$ 0.166 \\\\ \n",
      "Heart & 6.553 $\\pm$ 0.250 & 4.832 $\\pm$ 0.264 & 7.040 $\\pm$ 0.200 & 2.263 $\\pm$ 0.290 \\\\ \n",
      "Heloc & 16.326 $\\pm$ 0.119 & 12.605 $\\pm$ 0.924 & 15.818 $\\pm$ 0.202 & 3.537 $\\pm$ 0.157 \\\\ \n",
      "Liver & 5.273 $\\pm$ 0.142 & 3.385 $\\pm$ 0.175 & 5.245 $\\pm$ 0.169 & 1.885 $\\pm$ 0.138 \\\\ \n",
      "Magic & 16.814 $\\pm$ 0.377 & 14.190 $\\pm$ 0.373 & 17.231 $\\pm$ 0.375 & 5.307 $\\pm$ 0.626 \\\\ \n",
      "Mammographic & 1.714 $\\pm$ 0.106 & 1.506 $\\pm$ 0.158 & 1.808 $\\pm$ 0.095 & 1.243 $\\pm$ 0.063 \\\\ \n",
      "Phishing & 3.744 $\\pm$ 0.095 & 3.445 $\\pm$ 0.099 & 4.036 $\\pm$ 0.121 & 1.833 $\\pm$ 0.056 \\\\ \n",
      "Pima & 6.775 $\\pm$ 0.106 & 5.334 $\\pm$ 0.226 & 6.736 $\\pm$ 0.116 & 3.008 $\\pm$ 0.175 \\\\ \n",
      "Spam & 16.807 $\\pm$ 0.268 & 14.184 $\\pm$ 0.158 & 17.187 $\\pm$ 0.359 & 5.099 $\\pm$ 0.263 \\\\ \n",
      "Wine & 10.306 $\\pm$ 0.065 & 7.852 $\\pm$ 0.168 & 10.091 $\\pm$ 0.052 & 3.196 $\\pm$ 0.226 \\\\ \n",
      "\n",
      "When optimizing L1\n",
      "Adult & 2.932 $\\pm$ 0.076 & 2.697 $\\pm$ 0.072 & 3.120 $\\pm$ 0.072 & 2.506 $\\pm$ 0.047 \\\\ \n",
      "Banknote & 3.999 $\\pm$ 0.003 & 3.514 $\\pm$ 0.068 & 3.344 $\\pm$ 0.089 & 1.412 $\\pm$ 0.043 \\\\ \n",
      "Biodeg & 19.805 $\\pm$ 0.353 & 14.369 $\\pm$ 0.693 & 18.128 $\\pm$ 0.246 & 7.932 $\\pm$ 0.908 \\\\ \n",
      "Breast-cancer & 29.970 $\\pm$ 0.016 & 26.519 $\\pm$ 0.751 & 19.290 $\\pm$ 0.808 & 17.054 $\\pm$ 1.323 \\\\ \n",
      "Compas & 1.534 $\\pm$ 0.023 & 1.356 $\\pm$ 0.021 & 1.620 $\\pm$ 0.036 & 1.279 $\\pm$ 0.030 \\\\ \n",
      "German & 6.621 $\\pm$ 0.091 & 4.544 $\\pm$ 0.216 & 6.839 $\\pm$ 0.124 & 2.201 $\\pm$ 0.120 \\\\ \n",
      "Heart & 6.316 $\\pm$ 0.276 & 4.695 $\\pm$ 0.285 & 6.401 $\\pm$ 0.286 & 2.009 $\\pm$ 0.244 \\\\ \n",
      "Heloc & 14.998 $\\pm$ 0.189 & 11.001 $\\pm$ 0.623 & 14.385 $\\pm$ 0.342 & 2.619 $\\pm$ 0.131 \\\\ \n",
      "Liver & 4.960 $\\pm$ 0.175 & 3.154 $\\pm$ 0.193 & 4.978 $\\pm$ 0.192 & 1.624 $\\pm$ 0.088 \\\\ \n",
      "Magic & 14.713 $\\pm$ 0.408 & 12.807 $\\pm$ 0.393 & 14.322 $\\pm$ 0.366 & 4.572 $\\pm$ 0.539 \\\\ \n",
      "Mammographic & 1.461 $\\pm$ 0.070 & 1.375 $\\pm$ 0.075 & 1.684 $\\pm$ 0.100 & 1.313 $\\pm$ 0.073 \\\\ \n",
      "Phishing & 3.584 $\\pm$ 0.095 & 3.302 $\\pm$ 0.088 & 3.729 $\\pm$ 0.087 & 1.706 $\\pm$ 0.047 \\\\ \n",
      "Pima & 6.568 $\\pm$ 0.127 & 5.133 $\\pm$ 0.186 & 6.503 $\\pm$ 0.105 & 2.064 $\\pm$ 0.205 \\\\ \n",
      "Spam & 14.624 $\\pm$ 0.236 & 12.731 $\\pm$ 0.204 & 14.283 $\\pm$ 0.339 & 4.322 $\\pm$ 0.297 \\\\ \n",
      "Wine & 10.101 $\\pm$ 0.083 & 7.695 $\\pm$ 0.209 & 9.838 $\\pm$ 0.053 & 1.971 $\\pm$ 0.059 \\\\ \n",
      "\n"
     ]
    }
   ],
   "source": [
    "# L0 comparison\n",
    "\n",
    "print('L0 distance comparison')\n",
    "print('When optimizing L2')\n",
    "\n",
    "l0_opt_l2 = effectiveness_opt_L2[:,2,:,:]\n",
    "l0_opt_l2_avg = l0_opt_l2.mean(axis=0).round(3)\n",
    "l0_opt_l2_std = l0_opt_l2.std(axis=0).round(3)\n",
    "\n",
    "latex_string = ''\n",
    "for d in range(len(data_names)):\n",
    "    \n",
    "    latex_string += str.capitalize(data_names[d]) + ' & '\n",
    "    \n",
    "    for m in range(len(methods)):\n",
    "        latex_string += \"{:.3f}\".format(l0_opt_l2_avg[d,m]) + \" $\\\\pm$ \" + \"{:.3f}\".format(l0_opt_l2_std[d,m]) + ' & '\n",
    "        \n",
    "    latex_string = latex_string[:-2]\n",
    "    latex_string += '\\\\\\\\ \\n'\n",
    "    \n",
    "print(latex_string)\n",
    "\n",
    "print('When optimizing L1')\n",
    "l0_opt_l1 = effectiveness_opt_L1[:,2,:,:]\n",
    "l0_opt_l1_avg = l0_opt_l1.mean(axis=0).round(3)\n",
    "l0_opt_l1_std = l0_opt_l1.std(axis=0).round(3)\n",
    "\n",
    "latex_string = ''\n",
    "for d in range(len(data_names)):\n",
    "    \n",
    "    latex_string += str.capitalize(data_names[d]) + ' & '\n",
    "    \n",
    "    for m in range(len(methods)):\n",
    "        latex_string += \"{:.3f}\".format(l0_opt_l1_avg[d,m]) + \" $\\\\pm$ \" + \"{:.3f}\".format(l0_opt_l1_std[d,m]) + ' & '\n",
    "        \n",
    "    latex_string = latex_string[:-2]\n",
    "    latex_string += '\\\\\\\\ \\n'\n",
    "    \n",
    "print(latex_string)\n",
    "\n"
   ]
  },
  {
   "cell_type": "code",
   "execution_count": null,
   "id": "c1b9dff8-7c00-4343-9229-5d850b303f5a",
   "metadata": {},
   "outputs": [],
   "source": []
  }
 ],
 "metadata": {
  "kernelspec": {
   "display_name": "Python 3 (ipykernel)",
   "language": "python",
   "name": "python3"
  },
  "language_info": {
   "codemirror_mode": {
    "name": "ipython",
    "version": 3
   },
   "file_extension": ".py",
   "mimetype": "text/x-python",
   "name": "python",
   "nbconvert_exporter": "python",
   "pygments_lexer": "ipython3",
   "version": "3.12.4"
  }
 },
 "nbformat": 4,
 "nbformat_minor": 5
}
